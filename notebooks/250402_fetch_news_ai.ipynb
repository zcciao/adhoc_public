{
 "cells": [
  {
   "cell_type": "markdown",
   "metadata": {},
   "source": [
    "Test how to fetch URL data and use that with AI prompting\n",
    "Use this as the source of code https://github.com/modelcontextprotocol/servers/blob/main/src/fetch/src/mcp_server_fetch/server.py#L143"
   ]
  },
  {
   "cell_type": "markdown",
   "metadata": {},
   "source": []
  },
  {
   "cell_type": "code",
   "execution_count": 1,
   "metadata": {},
   "outputs": [],
   "source": [
    "from adhoc.url_fetch import fetch_url\n",
    "from adhoc.news_summarizer import summarize_news"
   ]
  },
  {
   "cell_type": "code",
   "execution_count": 2,
   "metadata": {},
   "outputs": [
    {
     "name": "stdout",
     "output_type": "stream",
     "text": [
      "Prefix: \n",
      "Content length: 4586\n"
     ]
    },
    {
     "name": "stderr",
     "output_type": "stream",
     "text": [
      "Warning: node executable not found, reverting to pure-Python mode. Install Node.js v10 or newer to use Readability.js.\n"
     ]
    }
   ],
   "source": [
    "from adhoc.url_fetch import fetch_url\n",
    "\n",
    "# Define a user agent string to identify our request\n",
    "user_agent = \"Mozilla/5.0 (compatible; MyBot/1.0; +http://example.com/bot)\"\n",
    "\n",
    "# Since fetch_url is an async function, we can await it directly in the notebook\n",
    "content, prefix = fetch_url(\"https://www.teslarati.com/category/news/\", user_agent)\n",
    "print(f\"Prefix: {prefix}\")\n",
    "print(f\"Content length: {len(content)}\")"
   ]
  },
  {
   "cell_type": "code",
   "execution_count": 3,
   "metadata": {},
   "outputs": [
    {
     "data": {
      "text/plain": [
       "\"Tesla News Source\\n\\nConnect with us\\n\\n### News\\n\\n## Tesla bull Wedbush responds to Q1 deliveries: ‘A disaster on every metric’\\n\\nTesla bull Wedbush has responded to the company’s lackluster Q1 delivery figures, which were released on Wednesday morning in a...\\n\\n* News3 hours ago\\n\\n  ## Tesla shares Optimus’ improved walk in new update video\\n\\n  The video featured an Optimus robot confidently walking in a humanlike manner.\\n* Investor's Corner3 hours ago\\n\\n  ## Tesla (TSLA) shares date for “Company Update” and Q1 2025 earnings call\\n\\n  Tesla seems to be planning something slightly different for the upcoming event.\\n* News4 hours ago\\n\\n  ## Tesla China sees 156% month-over-month sales increase in March\\n\\n  Tesla China’s results in March were shared by the China Passenger Car Association (CPCA).\\n* Investor's Corner4 hours ago\\n\\n  ## Tesla (TSLA) reports 336,681 vehicle deliveries for Q1 2025\\n\\n  The report was published on the company’s Investor Relations website.\\n* News7 hours ago\\n\\n  ## Wells Fargo reiterates Tesla (TSLA) price target of $130\\n\\n  Wells Fargo reiterated its Tesla price target of $130, delivering a grim forecast for the electric vehicle company in the near term. However, not all Wall...\\n* Elon Musk23 hours ago\\n\\n  ## NYC Comptroller moves to sue Tesla for securities violations\\n\\n  New York City Comptroller Brad Lander is urging the NYC Law Department to sue Tesla for securities violations related to CEO Elon Musk’s involvement in the...\\n* Elon Musk24 hours ago\\n\\n  ## Tesla is testing a Model 3 with some mysterious cameras in the U.S.\\n\\n  Tesla is testing a Model 3 with some mysterious cameras, potentially hinting toward the imminent release of the Cybercab and robotaxi platform in the United States....\\n* Elon Musk1 day ago\\n\\n  ## Tesla adds security feature to Android with latest software update\\n\\n  Tesla is bolstering its release of features to Android users as it is rolling out some new things with its latest software update. Update v4.43.5 will...\\n* News1 day ago\\n\\n  ## Tesla’s Elon Musk reiterates ambitious Cybertruck water update\\n\\n  Musk has been pretty open about the idea of the Cybertruck being used as a makeshift boat for some time now.\\n* News1 day ago\\n\\n  ## Starlink aircraft by United Airlines receives FAA approval\\n\\n  On Monday, United Airlines received approval from the Federal Aviation Administration (FAA) for its first Starlink-equipped planes. The first commercial flight with Starlink Wi-Fi is set...\\n* News1 day ago\\n\\n  ## New Tesla Model Y was a best-seller in China in March 2025\\n\\n  It appears that the new Tesla Model Y ended March as one of China’s best-selling vehicles.\\n* News1 day ago\\n\\n  ## Tesla China registrations hit Q1’s highest levels in March’s final week\\n\\n  Tesla China saw almost 21,000 new vehicle registrations in the week ending March 30.\\n* News2 days ago\\n\\n  ## Tesla’s new Model Y gets first software update—Here’s what’s in it\\n\\n  Tesla's new Model Y started delivering over the past few weeks, and its first software update is now here.\\n* News2 days ago\\n\\n  ## Tesla Giga Berlin hits new milestone by producing 500,000th Model Y\\n\\n  The achievement was announced on social media platform X.\\n* News2 days ago\\n\\n  ## Tesla China launches new low-interest promos on Model Y, Model 3\\n\\n  New zero- and low-interest financing terms arrive for both the Tesla Model Y and Model 3.\\n* Elon Musk2 days ago\\n\\n  ## Tesla subject to another arson vandalism as 17 cars lit on fire in Rome\\n\\n  Tesla has been hit with another round of arson-type vandalism in Rome, Italy, as 17 cars at a showroom in the city were destroyed in a...\\n* Investor's Corner2 days ago\\n\\n  ## Tesla (TSLA) shares company-compiled Q1 2025 delivery consensus\\n\\n  Analysts are expecting the electric car maker to post 377,592 deliveries for Q1 2025.\\n* Elon Musk3 days ago\\n\\n  ## Tesla supporter struck with vehicle by anti-Musk protestor at counter-protest\\n\\n  A man who showed up to counter-protest an anti-Elon Musk and anti-Tesla rally in Idaho was struck by a vehicle driven by a member of the...\\n* News4 days ago\\n\\n  ## Tesla could face New York store ban under this legislation\\n\\n  A new bill could threaten Tesla's ability to operate in-person, direct sales stores in New York.\\n\\nPage 1 of 112112345Next ›Last »\\n\\n> 🚨 A user on r/TeslaMotors spotted this Model 3 with some interesting and never-before-seen camera locations.\\n>\\n> Possible Cybercab or Next-Gen testing? pic.twitter.com/J6W6cKCiL9\\n>\\n> — TESLARATI (@Teslarati) March 31, 2025\\n\\nAdvertisement\\n\\n* Home\\n* About Us\\n* Contact Us\\n* Advertise With Us\\n* Terms\\n* Privacy\\n\\nCopyright © TESLARATI. All rights reserved.\""
      ]
     },
     "execution_count": 3,
     "metadata": {},
     "output_type": "execute_result"
    }
   ],
   "source": [
    "content"
   ]
  },
  {
   "cell_type": "code",
   "execution_count": 4,
   "metadata": {},
   "outputs": [
    {
     "name": "stderr",
     "output_type": "stream",
     "text": [
      "/Users/zhichaozhong/Documents/Repositories/adhoc/src/adhoc/news_summarizer.py:31: LangChainDeprecationWarning: The class `LLMChain` was deprecated in LangChain 0.1.17 and will be removed in 1.0. Use :meth:`~RunnableSequence, e.g., `prompt | llm`` instead.\n",
      "  chain = LLMChain(llm=llm, prompt=prompt)\n"
     ]
    },
    {
     "data": {
      "text/plain": [
       "'- Tesla\\'s Q1 delivery figures were lackluster and considered a \"disaster on every metric\" by Wedbush, a Tesla bull.\\n- Tesla China saw a 156% month-over-month increase in sales in March.\\n- Tesla reported 336,681 vehicle deliveries for Q1 2025.\\n- Wells Fargo reiterated its Tesla price target of $130, delivering a grim forecast for the company in the near term.\\n- Tesla is testing a Model 3 with mysterious cameras, potentially hinting at the imminent release of the Cybercab and robotaxi platform in the United States.'"
      ]
     },
     "execution_count": 4,
     "metadata": {},
     "output_type": "execute_result"
    }
   ],
   "source": [
    "summarize_news(content)"
   ]
  },
  {
   "cell_type": "code",
   "execution_count": null,
   "metadata": {},
   "outputs": [],
   "source": []
  }
 ],
 "metadata": {
  "kernelspec": {
   "display_name": "adhoc-9xXNMLS2-py3.10",
   "language": "python",
   "name": "python3"
  },
  "language_info": {
   "codemirror_mode": {
    "name": "ipython",
    "version": 3
   },
   "file_extension": ".py",
   "mimetype": "text/x-python",
   "name": "python",
   "nbconvert_exporter": "python",
   "pygments_lexer": "ipython3",
   "version": "3.10.16"
  }
 },
 "nbformat": 4,
 "nbformat_minor": 2
}
